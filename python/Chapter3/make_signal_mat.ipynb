{
 "cells": [
  {
   "cell_type": "markdown",
   "metadata": {},
   "source": [
    "# Let's make signal.mat"
   ]
  },
  {
   "cell_type": "code",
   "execution_count": null,
   "metadata": {},
   "outputs": [
    {
     "name": "stdout",
     "output_type": "stream",
     "text": [
      "(2676, 48)\n"
     ]
    }
   ],
   "source": [
    "'''LFM 펄스 레이다 신호 생성 시뮬레이션'''\n",
    "\n",
    "\n",
    "import numpy as np\n",
    "import random\n",
    "import scipy.io\n",
    "from scipy.constants import speed_of_light, pi\n",
    "\n",
    "# raw data에 azimuth reference function이 적용되었는지에 따라\n",
    "# 실제 실험 환경 또는 azi ref이 적용된 raw data = 'azref'\n",
    "# 단일 타겟 azi ref이 적용되지 않은 raw data = 'one_target_no_azref'\n",
    "# 다중 타겟 azi ref이 적용되지 않은 raw data = 'many_targets_no_azref'\n",
    "fig39 = 'one_target_no_azref'\n",
    "\n",
    "nAz = 2676  # Azimuth samples\n",
    "nRange = 48  # Range samples\n",
    "aperture_length = 200  # Synthetic Aperture Length\n",
    "bandwidth = 100e6  # Bandwidth (Hz)\n",
    "synthetic_aperture = np.linspace(-aperture_length / 2, aperture_length / 2, nAz)\n",
    "prf = 850  # Pulse Repetition Frequency (Hz)\n",
    "range_center = np.full((1, 2676), 10000)\n",
    "rc = 10000\n",
    "fc = (9.95e9 + 10.05e9) / 2\n",
    "wavelength = speed_of_light / fc\n",
    "slow_time = np.linspace(-prf / 2, prf / 2, nAz)\n",
    "vel = 100  # Target velocity (m/s)\n",
    "\n",
    "range_freqs = np.linspace(9.95e9, 10.05e9, nRange)\n",
    "slant = np.linspace(0, 10000, nRange)  # Slant ranges\n",
    "\n",
    "sar_raw_data = np.zeros((nAz, nRange), dtype=complex)\n",
    "\n",
    "t_cross_range = -5\n",
    "t_range = -20\n",
    "\n",
    "# 타겟 반사 신호 생성 (주파수 도메인에서)\n",
    "\n",
    "target_az = t_cross_range                    # target의 cross_range 방향 위치: 5 m\n",
    "target_range = range_center[0, 0] + t_range  # range_center + range 방향 위치: 10000 + 20 = 10020 m\n",
    "\n",
    "\n",
    "# 각 플랫폼(azimuth) 위치에서 타겟과의 거리, 지연 시간을 이용해서 단일 타겟에 대한 반사 신호 생성\n",
    "# Azimuth reference function이 적용되지 않음\n",
    "for i, platform_x in enumerate(synthetic_aperture):\n",
    "    \n",
    "    # 플랫폼 위치: (platform_x, 0), 타겟 위치: (target_az, target_range)\n",
    "    R = np.sqrt((target_range)**2 + (platform_x - target_az)**2)\n",
    "    \n",
    "    # 지연 시간\n",
    "    tau = 2 * R / speed_of_light # -> back projection 코드에서 신호 생성하는거 확인하기\n",
    "    \n",
    "    # range_freqs 벡터에 해당하는 하나의 chirp신호를 플랙폼의 이동에 따라 변화하는 tau 항을 통해 반사 신호 생성:\n",
    "    sar_raw_data[i, :] = np.exp(-1j * 2 * pi * range_freqs * tau)\n",
    "    \n",
    "print(sar_raw_data.shape)\n",
    "\n",
    "# 데이터 저장\n",
    "data = {\n",
    "    'signal': sar_raw_data,\n",
    "    'frequency': range_freqs,\n",
    "    'range_center': range_center,\n",
    "    'synthetic_aperture': synthetic_aperture,\n",
    "    'aperture_length': aperture_length,\n",
    "    'bandwidth': bandwidth,\n",
    "    'fig39': fig39,\n",
    "    'target_az': target_az\n",
    "}\n",
    "\n",
    "scipy.io.savemat('sar_raw_data.mat', data)"
   ]
  },
  {
   "cell_type": "code",
   "execution_count": null,
   "metadata": {},
   "outputs": [
    {
     "name": "stdout",
     "output_type": "stream",
     "text": [
      "(2676, 48)\n"
     ]
    }
   ],
   "source": [
    "'''FMCW 레이다 신호 생성 시뮬레이션'''"
   ]
  },
  {
   "cell_type": "code",
   "execution_count": 51,
   "metadata": {},
   "outputs": [
    {
     "name": "stdout",
     "output_type": "stream",
     "text": [
      "[0 2 4 6 8]\n",
      "\n",
      "\n",
      "[[ 0  2  4]\n",
      " [ 6  8 10]]\n",
      "\n",
      "\n",
      "[ 0  2  4  6  8 10 13 15 17]\n",
      "\n",
      "\n",
      "[0 1 3 5 7 9]\n",
      "\n",
      "\n",
      "[[ 0  2  4]\n",
      " [ 6  8 10]\n",
      " [ 5  7  9]]\n",
      "\n",
      "\n",
      "[[ 0  2  4  5  7  9]\n",
      " [ 6  8 10 13 15 17]]\n",
      "\n",
      "\n",
      "[ 1  2  3  4  5  6  7  8  9 10]\n"
     ]
    }
   ],
   "source": [
    "# Quick wxamples of append numpy arrays\n",
    "\n",
    "# Example 1: Creating a 1D NumPy array \n",
    "# From a Python list\n",
    "my_list = [0, 2, 4, 6, 8]\n",
    "result1 = np.array(my_list)\n",
    "print(result1)\n",
    "print('\\n')\n",
    "# Example 2: Create 2D numpy array \n",
    "# Using numpy.array() method\n",
    "my_list = [[0,2,4],[6,8,10]]\n",
    "result2 = np.array(my_list) \n",
    "print(result2)\n",
    "print('\\n')\n",
    "# Example 3: Use numpy.append() function\n",
    "arr = np.array([0,2,4,6,8,10]) \n",
    "result3 = np.append(arr, [13,15,17]) \n",
    "print(result3)\n",
    "print('\\n')\n",
    "# Example 4: Appending arrays \n",
    "# Along axis=0 (stacking vertically)\n",
    "arr = np.array([0, 1, 3])\n",
    "arr1 = np.array([5, 7, 9])\n",
    "result4 = np.append(arr, arr1, axis=0)\n",
    "print(result4)\n",
    "print('\\n')\n",
    "# Example 5: Creating two 2D NumPy arrays\n",
    "arr = np.array([[0,2,4],[6,8,10]]) \n",
    "result5 = np.append(arr, [[5,7,9]],axis = 0)\n",
    "print(result5)\n",
    "print('\\n')\n",
    "# Example 6: Appending arrays \n",
    "# Along axis=1 (stacking horizontally)\n",
    "arr = np.array([[0,2,4],[6,8,10]]) \n",
    "result6 = np.append(arr, [[5,7,9],[13,15,17]],axis = 1) \n",
    "print(result6)\n",
    "print('\\n')\n",
    "# Example 7: Use arange() Function \n",
    "# To Append an Array\n",
    "array = np.arange(1, 6)  \n",
    "array1 = np.array([6, 7, 8, 9, 10])\n",
    "result7 = np.append(array, array1)\n",
    "print(result7)"
   ]
  }
 ],
 "metadata": {
  "kernelspec": {
   "display_name": "base",
   "language": "python",
   "name": "python3"
  },
  "language_info": {
   "codemirror_mode": {
    "name": "ipython",
    "version": 3
   },
   "file_extension": ".py",
   "mimetype": "text/x-python",
   "name": "python",
   "nbconvert_exporter": "python",
   "pygments_lexer": "ipython3",
   "version": "3.12.7"
  }
 },
 "nbformat": 4,
 "nbformat_minor": 2
}
